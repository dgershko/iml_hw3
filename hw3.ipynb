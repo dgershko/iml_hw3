{
 "cells": [
  {
   "cell_type": "code",
   "execution_count": null,
   "metadata": {},
   "outputs": [],
   "source": [
    "from matplotlib import pylab \n",
    "params = {'xtick.labelsize': 18, \n",
    "'ytick.labelsize': 18, \n",
    "'axes.titlesize' : 22, \n",
    "'axes.labelsize' : 20, \n",
    "'legend.fontsize': 18, \n",
    "'legend.title_fontsize': 22, \n",
    "'figure.titlesize': 24 } \n",
    "pylab.rcParams.update(params)\n",
    "import pandas as pd\n",
    "import matplotlib.pyplot as plt\n",
    "import numpy as np\n",
    "import seaborn as sns\n",
    "from sklearn.neighbors import KNeighborsClassifier\n",
    "from sklearn.tree import DecisionTreeClassifier\n",
    "from pprint import pprint\n",
    "from prepare import prepare_data\n",
    "from sklearn.model_selection import train_test_split\n"
   ]
  },
  {
   "cell_type": "code",
   "execution_count": null,
   "metadata": {},
   "outputs": [],
   "source": [
    "df = pd.read_csv(\"data_HW3.csv\")\n",
    "ASSAF_ID = 207376807\n",
    "DANIEL_ID = 209088723\n",
    "randomness = ASSAF_ID % 100 + DANIEL_ID % 100\n",
    "train_set, test_set = train_test_split(\n",
    "    df, random_state=randomness, test_size=0.2\n",
    ")\n",
    "prepared_train_set = prepare_data(df, train_set)\n",
    "prepared_test_set = prepare_data(df, test_set)"
   ]
  },
  {
   "cell_type": "markdown",
   "metadata": {},
   "source": [
    "# Preliminary: Updated Data Loading"
   ]
  },
  {
   "cell_type": "markdown",
   "metadata": {},
   "source": [
    "# Section 1"
   ]
  },
  {
   "cell_type": "markdown",
   "metadata": {},
   "source": [
    "## Q123"
   ]
  },
  {
   "cell_type": "code",
   "execution_count": null,
   "metadata": {},
   "outputs": [],
   "source": [
    "from typing import List\n",
    "\n",
    "class Datapoint:\n",
    "    pass\n",
    "\n",
    "class Label:\n",
    "    pass\n",
    "\n",
    "def get_mean(X,Y):\n",
    "    pass\n",
    "\n",
    "def get_variance(X,Y):\n",
    "    pass\n",
    "\n",
    "def get_huber_delta(X: List[Datapoint], Y: List[Label]):\n",
    "    variance = get_variance(X, Y)\n",
    "    delta_candidates = [0.1 * variance, 0.1 * variance]\n",
    "    return 2*variance\n",
    "    \n",
    "    "
   ]
  },
  {
   "cell_type": "markdown",
   "metadata": {},
   "source": [
    "## Q124"
   ]
  },
  {
   "cell_type": "code",
   "execution_count": null,
   "metadata": {},
   "outputs": [],
   "source": []
  },
  {
   "cell_type": "markdown",
   "metadata": {},
   "source": [
    "## Q125"
   ]
  },
  {
   "cell_type": "code",
   "execution_count": null,
   "metadata": {},
   "outputs": [],
   "source": []
  },
  {
   "cell_type": "markdown",
   "metadata": {},
   "source": [
    "# Section 2"
   ]
  },
  {
   "cell_type": "markdown",
   "metadata": {},
   "source": [
    "## Q234"
   ]
  },
  {
   "cell_type": "code",
   "execution_count": null,
   "metadata": {},
   "outputs": [],
   "source": []
  },
  {
   "cell_type": "markdown",
   "metadata": {},
   "source": [
    "## Q235"
   ]
  },
  {
   "cell_type": "code",
   "execution_count": null,
   "metadata": {},
   "outputs": [],
   "source": []
  },
  {
   "cell_type": "markdown",
   "metadata": {},
   "source": [
    "# Section 3"
   ]
  },
  {
   "cell_type": "markdown",
   "metadata": {},
   "source": [
    "## Q345"
   ]
  },
  {
   "cell_type": "code",
   "execution_count": null,
   "metadata": {},
   "outputs": [],
   "source": []
  },
  {
   "cell_type": "markdown",
   "metadata": {},
   "source": [
    "## Q346"
   ]
  },
  {
   "cell_type": "code",
   "execution_count": null,
   "metadata": {},
   "outputs": [],
   "source": []
  },
  {
   "cell_type": "markdown",
   "metadata": {},
   "source": [
    "## Q347"
   ]
  },
  {
   "cell_type": "code",
   "execution_count": null,
   "metadata": {},
   "outputs": [],
   "source": []
  },
  {
   "cell_type": "markdown",
   "metadata": {},
   "source": [
    "# IML Major HW 3 - Linear Regression\n",
    "| Name | ID |\n",
    "|------|----|\n",
    "| Daniel Gershkovich   | 209088723  |\n",
    "| Assaf Alon   | 207376807  |"
   ]
  },
  {
   "cell_type": "code",
   "execution_count": null,
   "metadata": {},
   "outputs": [],
   "source": [
    "df = pd.read_csv(\"data_HW3.csv\")\n",
    "ASSAF_ID = 207376807\n",
    "DANIEL_ID = 209088723\n",
    "randomness = ASSAF_ID % 100 + DANIEL_ID % 100\n",
    "train_set, test_set = train_test_split(\n",
    "    df, random_state=randomness, test_size=0.2\n",
    ")\n",
    "prepared_train_set = prepare_data(train_set, train_set)\n",
    "prepared_test_set = prepare_data(train_set, test_set)"
   ]
  },
  {
   "cell_type": "code",
   "execution_count": null,
   "metadata": {},
   "outputs": [],
   "source": []
  }
 ],
 "metadata": {
  "kernelspec": {
   "display_name": "usr",
   "language": "python",
   "name": "python3"
  },
  "language_info": {
   "codemirror_mode": {
    "name": "ipython",
    "version": 3
   },
   "file_extension": ".py",
   "mimetype": "text/x-python",
   "name": "python",
   "nbconvert_exporter": "python",
   "pygments_lexer": "ipython3",
   "version": "3.12.2"
  }
 },
 "nbformat": 4,
 "nbformat_minor": 2
}
